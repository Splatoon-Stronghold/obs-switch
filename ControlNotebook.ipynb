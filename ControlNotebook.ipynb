{
 "cells": [
  {
   "cell_type": "code",
   "execution_count": 1,
   "id": "e148c80c-afa8-40bb-8706-87f99b0185fc",
   "metadata": {},
   "outputs": [
    {
     "name": "stdout",
     "output_type": "stream",
     "text": [
      "Connection attempt result: Success\n",
      "WebSocket connection opened\n",
      "Successfully identified with OBS WebSocket\n",
      "Connected to OBS WebSocket server\n",
      "Connected to the NXBT webapp.\n",
      "Connected to the NXBT webapp.\n",
      "Connection attempt result: Success\n",
      "Controller created with index: 3\n",
      "Controller created with index: 3\n"
     ]
    },
    {
     "name": "stderr",
     "output_type": "stream",
     "text": [
      "packet queue is empty, aborting\n"
     ]
    },
    {
     "name": "stdout",
     "output_type": "stream",
     "text": [
      "Disconnected from the NXBT webapp.\n",
      "Disconnected from the NXBT webapp.\n",
      "WebSocket closed: None - None\n",
      "Disconnected from OBS WebSocket server\n"
     ]
    }
   ],
   "source": [
    "import sys\n",
    "import json\n",
    "import time\n",
    "import threading\n",
    "from typing import Dict, List, Callable\n",
    "\n",
    "# Add the project source directory to the path if needed\n",
    "import sys\n",
    "sys.path.append('src')\n",
    "\n",
    "# Import controllers from the project\n",
    "from obs_switch.obs_controller import OBSController\n",
    "from obs_switch.switch_controller import SwitchController\n",
    "from obs_switch.switch_handler import translate_code_to_macros\n",
    "\n",
    "# Initialize OBS controller\n",
    "obs = OBSController()\n",
    "\n",
    "# Initialize Switch controller\n",
    "switch = SwitchController()\n",
    "\n",
    "obs_host = \"localhost\"\n",
    "obs_port = 4455\n",
    "obs_password = \"\"  # Set your password if you have one configured\n",
    "\n",
    "# Register a callback for connection status\n",
    "def on_obs_connection_status(data):\n",
    "    if data['connected']:\n",
    "        print(\"Connected to OBS WebSocket server\")\n",
    "    else:\n",
    "        print(\"Disconnected from OBS WebSocket server\")\n",
    "        if 'error' in data:\n",
    "            print(f\"Error: {data['error']}\")\n",
    "\n",
    "obs.register_event_callback(\"connection_status\", on_obs_connection_status)\n",
    "\n",
    "# Connect to OBS\n",
    "connected = obs.connect(obs_host, obs_port, obs_password)\n",
    "print(f\"Connection attempt result: {'Success' if connected else 'Failed'}\")\n",
    "\n",
    "# Connect to NXBT webapp\n",
    "switch_url = \"http://localhost:8000\"\n",
    "\n",
    "# Register a callback for connection status\n",
    "def on_switch_connection_status(data):\n",
    "    if data.get('connected', False):\n",
    "        print(\"Connected to the NXBT webapp.\")\n",
    "    else:\n",
    "        print(\"Disconnected from the NXBT webapp.\")\n",
    "\n",
    "# Register a callback for controller creation\n",
    "def on_create_controller(data):\n",
    "    index = data.get('index')\n",
    "    print(f\"Controller created with index: {index}\")\n",
    "\n",
    "switch.register_event_callback(\"connection_status\", on_switch_connection_status)\n",
    "switch.register_event_callback(\"controller_created\", on_create_controller)\n",
    "\n",
    "# Connect to Switch\n",
    "connected = switch.connect(switch_url)\n",
    "print(f\"Connection attempt result: {'Success' if connected else 'Failed'}\")"
   ]
  },
  {
   "cell_type": "code",
   "execution_count": 31,
   "id": "cf565871-cfaa-4e13-aff6-6e0b0141d8d0",
   "metadata": {},
   "outputs": [],
   "source": [
    "def recording_state(st: str):\n",
    "    # Get current recording status\n",
    "    if st == 'get_status':\n",
    "        print(\"Getting current recording status...\")\n",
    "        obs.get_recording_status()\n",
    "        time.sleep(1)\n",
    "    elif st == 'start_recording':\n",
    "        # Start recording\n",
    "        print(\"Starting recording...\")\n",
    "        obs.start_recording()\n",
    "        time.sleep(3)\n",
    "    elif st == 'stop_recording':\n",
    "        # Stop recording\n",
    "        print(\"Stopping recording...\")\n",
    "        obs.stop_recording()\n",
    "\n",
    "def press_button():\n",
    "    # Press the A button\n",
    "    print(\"Pressing A button...\")\n",
    "    switch.press_and_release('A', delay=0.2)\n",
    "    time.sleep(1)\n",
    "    \n",
    "    # Press multiple buttons\n",
    "    print(\"Pressing X and Y buttons...\")\n",
    "    switch.press_and_release(['X', 'Y'], delay=0.3)\n",
    "    time.sleep(1)\n",
    "\n",
    "    # Move left stick right\n",
    "    print(\"Moving left stick right...\")\n",
    "    switch.tilt_stick('L_STICK', 100, 0, delay=0.5)\n",
    "    time.sleep(1)\n",
    "    \n",
    "    # Move left stick up\n",
    "    print(\"Moving left stick up...\")\n",
    "    switch.tilt_stick('L_STICK', 0, 100, delay=0.5)\n",
    "    time.sleep(1)\n",
    "\n",
    "# Function to enter a replay code\n",
    "def enter_replay_code(code: str):\n",
    "    try:\n",
    "        # Translate the code to controller macros\n",
    "        macro_sequences = translate_code_to_macros(code)\n",
    "        \n",
    "        # Execute each macro sequence\n",
    "        for sequence in macro_sequences:\n",
    "            if sequence:\n",
    "                # Convert macro sequence to button presses\n",
    "                for button in sequence:\n",
    "                    if button:\n",
    "                        # Map the macro to the actual button name\n",
    "                        switch.press_and_release([button], 0.1)\n",
    "                        time.sleep(0.2)  # Add delay between button presses\n",
    "                \n",
    "                time.sleep(0.5)  # Add delay between sequences\n",
    "    except Exception as e:\n",
    "        print(f\"Error entering replay code: {e}\")\n",
    "\n",
    "def macro_to_controller(macro_input: str):\n",
    "        macro_dict = {\n",
    "            'L': 'A',\n",
    "            'K': 'B',\n",
    "            'I': 'X',\n",
    "            'J': 'Y',\n",
    "            '8': 'R',\n",
    "            '9': 'ZR',\n",
    "            '1': 'ZL',\n",
    "            '2': 'L',\n",
    "            '7': 'MINUS',\n",
    "            '6': 'PLUS',\n",
    "            'T': 'L_STICK_PRESS',\n",
    "            'Y': 'R_STICK_PRESS',\n",
    "            '[': 'HOME',\n",
    "            ']': 'CAPTURE',\n",
    "            'B': 'DPAD_DOWN',\n",
    "            'G': 'DPAD_UP',\n",
    "            'V': 'DPAD_LEFT',\n",
    "            'N': 'DPAD_RIGHT',\n",
    "            'W': 'LEFT_STICK_UP',\n",
    "            'S': 'LEFT_STICK_DOWN',\n",
    "            'A': 'LEFT_STICK_LEFT',\n",
    "            'D': 'LEFT_STICK_RIGHT',\n",
    "            'ArrowDown': 'RIGHT_STICK_UP',\n",
    "            'ArrowUp': 'RIGHT_STICK_DOWN',\n",
    "            'ArrowLeft': 'RIGHT_STICK_LEFT',\n",
    "            'ArrowRight': 'RIGHT_STICK_RIGHT'\n",
    "        }\n",
    "        return macro_dict.get(macro_input)"
   ]
  },
  {
   "cell_type": "code",
   "execution_count": 23,
   "id": "a08c9b14-3648-4247-abb6-e0289eda85e3",
   "metadata": {},
   "outputs": [
    {
     "data": {
      "text/plain": [
       "True"
      ]
     },
     "execution_count": 23,
     "metadata": {},
     "output_type": "execute_result"
    }
   ],
   "source": [
    "controls = [\n",
    "    \"DPAD_UP\",      # 0\n",
    "    \"DPAD_LEFT\",    # 1\n",
    "    \"DPAD_RIGHT\",   # 2\n",
    "    \"DPAD_DOWN\",    # 3\n",
    "    \"L\",            # 4\n",
    "    \"ZL\",           # 5\n",
    "    \"R\",            # 6\n",
    "    \"ZR\",           # 7\n",
    "    \"PLUS\",         # 8\n",
    "    \"MINUS\",        # 9\n",
    "    \"HOME\",         # 10\n",
    "    \"CAPTURE\",      # 11\n",
    "    \"Y\",            # 12\n",
    "    \"X\",            # 13\n",
    "    \"B\",            # 14\n",
    "    \"A\"             # 15\n",
    "]\n",
    "\n",
    "# switch.is_connected()\n",
    "switch.press_and_release(controls[1], delay=0.2)\n",
    "# switch.press_and_release(['ZL','ZR'], delay=1)\n",
    "# switch.press_and_release([''], delay=2)\n",
    "# switch.tilt_stick('L_STICK', 0, 100, delay=0.5)\n"
   ]
  },
  {
   "cell_type": "code",
   "execution_count": 36,
   "id": "288e32b3-0ac2-475b-b5de-db9889775c3c",
   "metadata": {},
   "outputs": [],
   "source": [
    "# schema = [ [2], [2], [2], [15] ] # From matchine to replays\n",
    "\n",
    "for action in schema:\n",
    "    switch.press_and_release([controls[i] for i in action], delay=0.2)"
   ]
  },
  {
   "cell_type": "code",
   "execution_count": 89,
   "id": "0bec2409-e973-4cfa-b6cd-ef7b9d4f52d2",
   "metadata": {},
   "outputs": [
    {
     "data": {
      "text/plain": [
       "True"
      ]
     },
     "execution_count": 89,
     "metadata": {},
     "output_type": "execute_result"
    }
   ],
   "source": [
    "switch.press_and_release(controls[14], delay=0.2)"
   ]
  },
  {
   "cell_type": "code",
   "execution_count": 90,
   "id": "79ed781c-3f23-46ef-b7a3-16764e66a977",
   "metadata": {},
   "outputs": [
    {
     "name": "stdout",
     "output_type": "stream",
     "text": [
      "Entering replay code: R2TA-RJN3-BNYQ-LCTS\n"
     ]
    },
    {
     "name": "stderr",
     "output_type": "stream",
     "text": [
      "packet queue is empty, aborting\n"
     ]
    },
    {
     "name": "stdout",
     "output_type": "stream",
     "text": [
      "Disconnected from the NXBT webapp.\n",
      "Disconnected from the NXBT webapp.\n",
      "Connected to the NXBT webapp.\n",
      "Connected to the NXBT webapp.\n",
      "Controller created with index: 6\n",
      "Controller created with index: 6\n"
     ]
    }
   ],
   "source": [
    "# Enter a replay code\n",
    "replay_codes = [\n",
    "    # \"1234-5678-9012\"\n",
    "    \"R2TA-RJN3-BNYQ-LCTS\"\n",
    "]\n",
    "for replay_code in replay_codes:\n",
    "    print(f\"Entering replay code: {replay_code}\")\n",
    "    # Getting the whole sequence for putting a replay code\n",
    "    macro_sequences = translate_code_to_macros(replay_code)\n",
    "    # Is a List of Lists\n",
    "    for sequence in macro_sequences:\n",
    "        # Every item is one replay char \n",
    "        for key in sequence:\n",
    "            # Translating the Key (for NXBT keyboard) to Switch buttons\n",
    "            switch.press_and_release(macro_to_controller(key), delay=0.1)\n",
    "            # This is required for avoiding mixing signals\n",
    "            time.sleep(0.5)\n",
    "    \n"
   ]
  },
  {
   "cell_type": "code",
   "execution_count": 91,
   "id": "5ab1cf38-5395-4364-8483-19c3012cf682",
   "metadata": {},
   "outputs": [
    {
     "name": "stdout",
     "output_type": "stream",
     "text": [
      "Disconnecting from OBS...\n",
      "Disconnected from OBS WebSocket server\n",
      "Disconnecting from Switch...\n",
      "Disconnected from the NXBT webapp.\n",
      "Disconnected from the NXBT webapp.\n",
      "Disconnected from the NXBT webapp.\n",
      "Cleanup complete!\n"
     ]
    }
   ],
   "source": [
    "# Disconnect block\n",
    "# Disconnect from OBS\n",
    "print(\"Disconnecting from OBS...\")\n",
    "obs.disconnect()\n",
    "\n",
    "# Disconnect from Switch\n",
    "print(\"Disconnecting from Switch...\")\n",
    "switch.disconnect()\n",
    "\n",
    "print(\"Cleanup complete!\")"
   ]
  }
 ],
 "metadata": {
  "kernelspec": {
   "display_name": "Python 3 (ipykernel)",
   "language": "python",
   "name": "python3"
  },
  "language_info": {
   "codemirror_mode": {
    "name": "ipython",
    "version": 3
   },
   "file_extension": ".py",
   "mimetype": "text/x-python",
   "name": "python",
   "nbconvert_exporter": "python",
   "pygments_lexer": "ipython3",
   "version": "3.11.5"
  }
 },
 "nbformat": 4,
 "nbformat_minor": 5
}
